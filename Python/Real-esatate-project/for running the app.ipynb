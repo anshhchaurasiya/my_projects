{
 "cells": [
  {
   "cell_type": "code",
   "execution_count": null,
   "id": "ced417af-1051-49a6-b1f9-c7e6c2509e38",
   "metadata": {},
   "outputs": [],
   "source": [
    "# Run streamlit application "
   ]
  },
  {
   "cell_type": "code",
   "execution_count": 2,
   "id": "7b487101-38e2-40b7-b823-69f4041ffd21",
   "metadata": {},
   "outputs": [
    {
     "name": "stdout",
     "output_type": "stream",
     "text": [
      "^C\n"
     ]
    }
   ],
   "source": [
    "!streamlit run home.py\n"
   ]
  },
  {
   "cell_type": "code",
   "execution_count": null,
   "id": "77ba56da-2bbb-469e-9c30-6f4a2b5519f3",
   "metadata": {},
   "outputs": [],
   "source": [
    "# press square block on the stop or restart the kernal"
   ]
  },
  {
   "cell_type": "code",
   "execution_count": null,
   "id": "b1fbc78b-1d25-4d06-8841-6294739bdcff",
   "metadata": {},
   "outputs": [],
   "source": []
  },
  {
   "cell_type": "code",
   "execution_count": null,
   "id": "40f22356-de44-4545-8784-19c821f03f5c",
   "metadata": {},
   "outputs": [],
   "source": []
  },
  {
   "cell_type": "code",
   "execution_count": null,
   "id": "e712a8a0-0eb3-47dd-9405-83a7f94f853a",
   "metadata": {},
   "outputs": [],
   "source": []
  }
 ],
 "metadata": {
  "kernelspec": {
   "display_name": "Python 3 (ipykernel)",
   "language": "python",
   "name": "python3"
  },
  "language_info": {
   "codemirror_mode": {
    "name": "ipython",
    "version": 3
   },
   "file_extension": ".py",
   "mimetype": "text/x-python",
   "name": "python",
   "nbconvert_exporter": "python",
   "pygments_lexer": "ipython3",
   "version": "3.11.10"
  }
 },
 "nbformat": 4,
 "nbformat_minor": 5
}
